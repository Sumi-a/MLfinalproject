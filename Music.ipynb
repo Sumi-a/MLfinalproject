{
 "cells": [
  {
   "metadata": {},
   "cell_type": "markdown",
   "source": "### Load and Clean Data\n",
   "id": "505e23836a041328"
  },
  {
   "metadata": {
    "ExecuteTime": {
     "end_time": "2024-11-13T22:32:26.892876Z",
     "start_time": "2024-11-13T22:32:26.885854Z"
    }
   },
   "cell_type": "code",
   "source": [
    "import pandas as pd\n",
    "from sklearn.preprocessing import MinMaxScaler"
   ],
   "id": "11a08134644d7149",
   "outputs": [],
   "execution_count": 10
  },
  {
   "metadata": {
    "ExecuteTime": {
     "end_time": "2024-11-13T22:34:28.896948Z",
     "start_time": "2024-11-13T22:34:28.457989Z"
    }
   },
   "cell_type": "code",
   "source": [
    "df = pd.read_csv('Music.csv', header=0, low_memory=False)\n",
    "# Drop irrelevant columns\n",
    "df = df.drop(['id', 'track_id'], axis=1)\n",
    "df = df.dropna()\n",
    "#print(df.columns)\n",
    "\n",
    "# Normalize features\n",
    "scaler = MinMaxScaler()\n",
    "features = ['valence', 'energy', 'tempo']\n",
    "df[features] = scaler.fit_transform(df[features])\n",
    "print(df.head())"
   ],
   "id": "f9d87ac107eb4084",
   "outputs": [
    {
     "name": "stdout",
     "output_type": "stream",
     "text": [
      "                  artists                                         album_name  \\\n",
      "0             Gen Hoshino                                             Comedy   \n",
      "1            Ben Woodward                                   Ghost (Acoustic)   \n",
      "2  Ingrid Michaelson;ZAYN                                     To Begin Again   \n",
      "3            Kina Grannis  Crazy Rich Asians (Original Motion Picture Sou...   \n",
      "4        Chord Overstreet                                            Hold On   \n",
      "\n",
      "                   track_name  popularity  duration_ms  explicit  \\\n",
      "0                      Comedy          73       230666     False   \n",
      "1            Ghost - Acoustic          55       149610     False   \n",
      "2              To Begin Again          57       210826     False   \n",
      "3  Can't Help Falling In Love          71       201933     False   \n",
      "4                     Hold On          82       198853     False   \n",
      "\n",
      "   danceability  energy  key  loudness  mode  speechiness  acousticness  \\\n",
      "0         0.676  0.4610    1    -6.746     0       0.1430        0.0322   \n",
      "1         0.420  0.1660    1   -17.235     1       0.0763        0.9240   \n",
      "2         0.438  0.3590    0    -9.734     1       0.0557        0.2100   \n",
      "3         0.266  0.0596    0   -18.515     1       0.0363        0.9050   \n",
      "4         0.618  0.4430    2    -9.681     1       0.0526        0.4690   \n",
      "\n",
      "   instrumentalness  liveness   valence     tempo  time_signature track_genre  \n",
      "0          0.000001    0.3580  0.718593  0.361245               4    acoustic  \n",
      "1          0.000006    0.1010  0.268342  0.318397               4    acoustic  \n",
      "2          0.000000    0.1170  0.120603  0.313643               4    acoustic  \n",
      "3          0.000071    0.1320  0.143719  0.746758               3    acoustic  \n",
      "4          0.000000    0.0829  0.167839  0.492863               4    acoustic  \n"
     ]
    }
   ],
   "execution_count": 14
  }
 ],
 "metadata": {
  "kernelspec": {
   "display_name": "Python 3",
   "language": "python",
   "name": "python3"
  },
  "language_info": {
   "codemirror_mode": {
    "name": "ipython",
    "version": 2
   },
   "file_extension": ".py",
   "mimetype": "text/x-python",
   "name": "python",
   "nbconvert_exporter": "python",
   "pygments_lexer": "ipython2",
   "version": "2.7.6"
  }
 },
 "nbformat": 4,
 "nbformat_minor": 5
}
