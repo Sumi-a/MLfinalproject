{
 "cells": [
  {
   "metadata": {},
   "cell_type": "markdown",
   "source": "### Convert Sentisense file To CSV\n",
   "id": "505e23836a041328"
  },
  {
   "metadata": {
    "ExecuteTime": {
     "end_time": "2024-11-14T23:40:45.878825Z",
     "start_time": "2024-11-14T23:40:45.875952Z"
    }
   },
   "cell_type": "code",
   "source": [
    "import pandas as pd\n",
    "import xml.etree.ElementTree as ET\n",
    "from sklearn.preprocessing import MinMaxScaler\n",
    "from mlxtend.preprocessing import TransactionEncoder\n",
    "from nltk.tokenize import word_tokenize\n",
    "from collections import Counter"
   ],
   "id": "11a08134644d7149",
   "outputs": [],
   "execution_count": 38
  },
  {
   "metadata": {
    "ExecuteTime": {
     "end_time": "2024-11-14T23:40:45.915318Z",
     "start_time": "2024-11-14T23:40:45.891768Z"
    }
   },
   "cell_type": "code",
   "source": [
    "# Parse SentiSense Categories\n",
    "def parse_categories(file_path):\n",
    "    tree = ET.parse(file_path)\n",
    "    root = tree.getroot()\n",
    "\n",
    "    categories = []\n",
    "    for category in root.findall('EmotionalCategory'):\n",
    "        categories.append({\n",
    "            'name': category.attrib['name'],\n",
    "            'antonym': category.attrib.get('antonym', None)\n",
    "        })\n",
    "\n",
    "    df_categories = pd.DataFrame(categories)\n",
    "    df_categories.to_csv('SentiSense_Categories.csv', index=False)\n",
    "    print(\"Categories saved to SentiSense_Categories.csv\")\n",
    "\n",
    "# Parse SentiSense Synsets\n",
    "def parse_synsets(file_path):\n",
    "    tree = ET.parse(file_path)\n",
    "    root = tree.getroot()\n",
    "\n",
    "    synsets = []\n",
    "    for concept in root.findall('Concept'):\n",
    "        synsets.append({\n",
    "            'synset': concept.attrib['synset'],\n",
    "            'pos': concept.attrib['pos'],\n",
    "            'gloss': concept.attrib['gloss'],\n",
    "            'emotion': concept.attrib['emotion']\n",
    "        })\n",
    "\n",
    "    df_synsets = pd.DataFrame(synsets)\n",
    "    df_synsets.to_csv('SentiSense_Synsets.csv', index=False)\n",
    "    print(\"Synsets saved to SentiSense_Synsets.csv\")\n",
    "\n",
    "# Convert XML to CSV\n",
    "parse_categories('/Users/sumeyyasherief/DataspellProjects/MLfinalproject/SentiSense_English_WordNet_2.1/SentiSense_Categories.xml')\n",
    "parse_synsets('/Users/sumeyyasherief/DataspellProjects/MLfinalproject/SentiSense_English_WordNet_2.1/SentiSense_Synsets_EN_21.xml')\n"
   ],
   "id": "93d6604b13db2a32",
   "outputs": [
    {
     "name": "stdout",
     "output_type": "stream",
     "text": [
      "Categories saved to SentiSense_Categories.csv\n",
      "Synsets saved to SentiSense_Synsets.csv\n"
     ]
    }
   ],
   "execution_count": 39
  },
  {
   "metadata": {},
   "cell_type": "markdown",
   "source": "### Load CSV files",
   "id": "6a9a0b89976a4c80"
  },
  {
   "metadata": {
    "ExecuteTime": {
     "end_time": "2024-11-14T23:40:46.220426Z",
     "start_time": "2024-11-14T23:40:45.924860Z"
    }
   },
   "cell_type": "code",
   "source": [
    "categories_df = pd.read_csv('SentiSense_Categories.csv')\n",
    "synsets_df = pd.read_csv('SentiSense_Synsets.csv')\n",
    "print(categories_df.head())\n",
    "print(synsets_df.head())\n",
    "\n",
    "df = pd.read_csv('Music.csv', header=0, low_memory=False)\n",
    "print(df.head())\n",
    "# Drop irrelevant columns\n",
    "df = df.drop(['id', 'track_id'], axis=1)\n",
    "df = df.dropna()\n",
    "#print(df.columns)\n",
    "\n",
    "# Normalize features\n",
    "scaler = MinMaxScaler()\n",
    "features = ['valence', 'energy', 'tempo']\n",
    "df[features] = scaler.fit_transform(df[features])\n",
    "\\"
   ],
   "id": "f9d87ac107eb4084",
   "outputs": [
    {
     "name": "stdout",
     "output_type": "stream",
     "text": [
      "       name       antonym\n",
      "0       joy       sadness\n",
      "1      fear      calmness\n",
      "2  surprise  anticipation\n",
      "3     anger      calmness\n",
      "4   disgust          like\n",
      "           synset        pos  \\\n",
      "0  SID-00152712-A  adjective   \n",
      "1  SID-00050667-R     adverb   \n",
      "2  SID-00870909-N       noun   \n",
      "3  SID-05777543-N       noun   \n",
      "4  SID-02414842-A  adjective   \n",
      "\n",
      "                                               gloss       emotion  \n",
      "0  lacking cordiality; unfriendly; \"a standoffish...       disgust  \n",
      "1         in a joyous manner; \"they shouted happily\"           joy  \n",
      "2  the activities of educating or instructing; ac...          like  \n",
      "3  a characteristic that provides pleasure and at...  anticipation  \n",
      "4  of a quantity that can fulfill a need or requi...  anticipation  \n",
      "   id                track_id                 artists  \\\n",
      "0   0  5SuOikwiRyPMVoIQDJUgSV             Gen Hoshino   \n",
      "1   1  4qPNDBW1i3p13qLCt0Ki3A            Ben Woodward   \n",
      "2   2  1iJBSr7s7jYXzM8EGcbK5b  Ingrid Michaelson;ZAYN   \n",
      "3   3  6lfxq3CG4xtTiEg7opyCyx            Kina Grannis   \n",
      "4   4  5vjLSffimiIP26QG5WcN2K        Chord Overstreet   \n",
      "\n",
      "                                          album_name  \\\n",
      "0                                             Comedy   \n",
      "1                                   Ghost (Acoustic)   \n",
      "2                                     To Begin Again   \n",
      "3  Crazy Rich Asians (Original Motion Picture Sou...   \n",
      "4                                            Hold On   \n",
      "\n",
      "                   track_name  popularity  duration_ms  explicit  \\\n",
      "0                      Comedy          73       230666     False   \n",
      "1            Ghost - Acoustic          55       149610     False   \n",
      "2              To Begin Again          57       210826     False   \n",
      "3  Can't Help Falling In Love          71       201933     False   \n",
      "4                     Hold On          82       198853     False   \n",
      "\n",
      "   danceability  energy  ...  loudness  mode  speechiness  acousticness  \\\n",
      "0         0.676  0.4610  ...    -6.746     0       0.1430        0.0322   \n",
      "1         0.420  0.1660  ...   -17.235     1       0.0763        0.9240   \n",
      "2         0.438  0.3590  ...    -9.734     1       0.0557        0.2100   \n",
      "3         0.266  0.0596  ...   -18.515     1       0.0363        0.9050   \n",
      "4         0.618  0.4430  ...    -9.681     1       0.0526        0.4690   \n",
      "\n",
      "   instrumentalness  liveness  valence    tempo  time_signature  track_genre  \n",
      "0          0.000001    0.3580    0.715   87.917               4     acoustic  \n",
      "1          0.000006    0.1010    0.267   77.489               4     acoustic  \n",
      "2          0.000000    0.1170    0.120   76.332               4     acoustic  \n",
      "3          0.000071    0.1320    0.143  181.740               3     acoustic  \n",
      "4          0.000000    0.0829    0.167  119.949               4     acoustic  \n",
      "\n",
      "[5 rows x 21 columns]\n"
     ]
    }
   ],
   "execution_count": 40
  },
  {
   "metadata": {},
   "cell_type": "markdown",
   "source": "### Mapping Songs to emotions",
   "id": "29e54a690bbdeea3"
  },
  {
   "metadata": {
    "ExecuteTime": {
     "end_time": "2024-11-15T01:32:28.320796Z",
     "start_time": "2024-11-15T01:32:27.297801Z"
    }
   },
   "cell_type": "code",
   "source": [
    "# Map songs to emotions based on thresholds (example logic)\n",
    "def map_emotions(row):\n",
    "    if row['valence'] > 0.7 and row['energy'] < 0.3:\n",
    "        return 'calm'\n",
    "    elif row['valence'] > 0.7 and row['energy'] > 0.7:\n",
    "        return 'joyful'\n",
    "    elif row['valence'] < 0.3 and row['energy'] > 0.7:\n",
    "        return 'angry'\n",
    "    elif row['valence'] < 0.3 and row['energy'] < 0.3:\n",
    "        return 'sad'\n",
    "    else:\n",
    "        return 'neutral'\n",
    "\n",
    "df['emotion'] = df.apply(map_emotions, axis=1)\n"
   ],
   "id": "11ebc9108402da2",
   "outputs": [],
   "execution_count": 49
  },
  {
   "metadata": {
    "ExecuteTime": {
     "end_time": "2024-11-15T01:34:08.116765Z",
     "start_time": "2024-11-15T01:34:08.112432Z"
    }
   },
   "cell_type": "code",
   "source": "print(df.columns) ",
   "id": "526d30752f099050",
   "outputs": [
    {
     "name": "stdout",
     "output_type": "stream",
     "text": [
      "Index(['artists', 'album_name', 'track_name', 'popularity', 'duration_ms',\n",
      "       'explicit', 'danceability', 'energy', 'key', 'loudness', 'mode',\n",
      "       'speechiness', 'acousticness', 'instrumentalness', 'liveness',\n",
      "       'valence', 'tempo', 'time_signature', 'track_genre', 'text_data',\n",
      "       'emotion_cluster', 'emotion_label', 'emotion'],\n",
      "      dtype='object')\n"
     ]
    }
   ],
   "execution_count": 53
  },
  {
   "metadata": {},
   "cell_type": "markdown",
   "source": "### Encode Transactions for Apriori Algorithm",
   "id": "b6a9c57e3439efbe"
  },
  {
   "metadata": {
    "ExecuteTime": {
     "end_time": "2024-11-15T01:50:04.215280Z",
     "start_time": "2024-11-15T01:50:03.835946Z"
    }
   },
   "cell_type": "code",
   "source": [
    "\n",
    "import numpy as np\n",
    "\n",
    "music_df = pd.read_csv('Music.csv')\n",
    "# Group by user preferences and create transactional data\n",
    "# Example: Assuming there's a `user_id` column and each user listens to multiple songs\n",
    "user_transactions = df.groupby('user_id')['emotion'].apply(list).reset_index()\n",
    "\n",
    "# Ensure each user's emotion list contains unique emotions\n",
    "user_transactions['emotion'] = user_transactions['emotion'].apply(lambda x: list(set(x)))\n",
    "\n",
    "# Save transactional data\n",
    "user_transactions.to_csv('User_Transactions.csv', index=False)\n",
    "\n",
    "# Display the transactional data\n",
    "print(user_transactions.head())"
   ],
   "id": "464e8d4df13f80ae",
   "outputs": [
    {
     "name": "stdout",
     "output_type": "stream",
     "text": [
      "   user_id                              emotion\n",
      "0        1  [angry, sad, joyful, neutral, calm]\n",
      "1        2  [angry, sad, joyful, neutral, calm]\n",
      "2        3  [sad, angry, joyful, neutral, calm]\n",
      "3        4  [sad, angry, joyful, neutral, calm]\n",
      "4        5  [sad, angry, joyful, neutral, calm]\n"
     ]
    }
   ],
   "execution_count": 69
  },
  {
   "metadata": {
    "ExecuteTime": {
     "end_time": "2024-11-15T01:51:10.660710Z",
     "start_time": "2024-11-15T01:51:10.632954Z"
    }
   },
   "cell_type": "code",
   "source": [
    "import random\n",
    "\n",
    "# Simulate user transactions with random emotions\n",
    "emotions = ['angry', 'calm', 'joyful', 'neutral', 'sad']\n",
    "user_transactions = pd.DataFrame({\n",
    "    'user_id': [1, 2, 3, 4, 5],\n",
    "    'emotion': [random.sample(emotions, random.randint(2, 5)) for _ in range(5)]\n",
    "})\n",
    "\n",
    "# Save the simulated transactions\n",
    "user_transactions.to_csv('User_Transactions.csv', index=False)\n",
    "\n",
    "print(user_transactions)\n"
   ],
   "id": "cd988ea742ad6179",
   "outputs": [
    {
     "name": "stdout",
     "output_type": "stream",
     "text": [
      "   user_id                              emotion\n",
      "0        1          [sad, angry, neutral, calm]\n",
      "1        2              [neutral, calm, joyful]\n",
      "2        3  [sad, calm, joyful, neutral, angry]\n",
      "3        4  [neutral, sad, calm, joyful, angry]\n",
      "4        5           [joyful, angry, calm, sad]\n"
     ]
    }
   ],
   "execution_count": 71
  },
  {
   "metadata": {
    "ExecuteTime": {
     "end_time": "2024-11-15T01:51:16.132048Z",
     "start_time": "2024-11-15T01:51:16.121928Z"
    }
   },
   "cell_type": "code",
   "source": [
    "from mlxtend.preprocessing import TransactionEncoder\n",
    "import pandas as pd\n",
    "\n",
    "# Load the regenerated transactional data\n",
    "user_transactions = pd.read_csv('User_Transactions.csv')\n",
    "\n",
    "# Extract the list of emotion transactions\n",
    "transactions = user_transactions['emotion'].apply(eval).tolist()\n",
    "\n",
    "# Ensure each transaction has unique emotions\n",
    "transactions = [list(set(t)) for t in transactions]\n",
    "\n",
    "# Check unique transactions\n",
    "print(\"Unique transactions:\", transactions[:5])\n",
    "\n",
    "# Initialize TransactionEncoder\n",
    "te = TransactionEncoder()\n",
    "\n",
    "# Fit and transform transactions\n",
    "te_array = te.fit(transactions).transform(transactions)\n",
    "\n",
    "# Debug: Check detected columns\n",
    "print(\"Detected columns:\", te.columns_)\n",
    "\n",
    "# Convert the binary matrix to a DataFrame\n",
    "df_encoded = pd.DataFrame(te_array, columns=te.columns_)\n",
    "\n",
    "# Convert True/False to 1/0\n",
    "df_encoded = df_encoded.astype(int)\n",
    "\n",
    "# Save the encoded transactions\n",
    "df_encoded.to_csv('Encoded_Transactions.csv', index=False)\n",
    "\n",
    "# Display the final DataFrame\n",
    "print(df_encoded.head())\n"
   ],
   "id": "58f0c4436717b089",
   "outputs": [
    {
     "name": "stdout",
     "output_type": "stream",
     "text": [
      "Unique transactions: [['calm', 'sad', 'neutral', 'angry'], ['neutral', 'calm', 'joyful'], ['sad', 'angry', 'joyful', 'neutral', 'calm'], ['angry', 'sad', 'joyful', 'neutral', 'calm'], ['calm', 'joyful', 'angry', 'sad']]\n",
      "Detected columns: ['angry', 'calm', 'joyful', 'neutral', 'sad']\n",
      "   angry  calm  joyful  neutral  sad\n",
      "0      1     1       0        1    1\n",
      "1      0     1       1        1    0\n",
      "2      1     1       1        1    1\n",
      "3      1     1       1        1    1\n",
      "4      1     1       1        0    1\n"
     ]
    }
   ],
   "execution_count": 72
  },
  {
   "metadata": {},
   "cell_type": "markdown",
   "source": "### Apply the Apriori Algorithm",
   "id": "e70d0cf952120d46"
  },
  {
   "metadata": {
    "ExecuteTime": {
     "end_time": "2024-11-15T02:18:55.765251Z",
     "start_time": "2024-11-15T02:18:55.718738Z"
    }
   },
   "cell_type": "code",
   "source": [
    "import pandas as pd\n",
    "from mlxtend.frequent_patterns import apriori\n",
    "from mlxtend.frequent_patterns import association_rules\n",
    "import mlxtend\n",
    "\n",
    "def generate_rules(df_encoded, min_support=0.1, min_confidence=0.5):\n",
    "    \"\"\"\n",
    "    Generate frequent itemsets and association rules with compatibility for different mlxtend versions\n",
    "    \n",
    "    Parameters:\n",
    "    -----------\n",
    "    df_encoded : pd.DataFrame\n",
    "        The encoded transaction data\n",
    "    min_support : float\n",
    "        Minimum support threshold for frequent itemsets\n",
    "    min_confidence : float\n",
    "        Minimum confidence threshold for rules\n",
    "        \n",
    "    Returns:\n",
    "    --------\n",
    "    tuple : (frequent_itemsets, rules)\n",
    "    \"\"\"\n",
    "    try:\n",
    "        # Generate frequent itemsets\n",
    "        frequent_itemsets = apriori(df_encoded,\n",
    "                                    min_support=min_support,\n",
    "                                    use_colnames=True)\n",
    "\n",
    "        if len(frequent_itemsets) == 0:\n",
    "            print(\"No frequent itemsets found. Try lowering the min_support threshold.\")\n",
    "            return None, None\n",
    "\n",
    "        # Add length column\n",
    "        frequent_itemsets['length'] = frequent_itemsets['itemsets'].apply(lambda x: len(x))\n",
    "\n",
    "        # Check mlxtend version and call association_rules accordingly\n",
    "        mlxtend_version = tuple(map(int, mlxtend.__version__.split('.')))\n",
    "\n",
    "        try:\n",
    "            if mlxtend_version >= (0, 21, 0):  # Newer versions\n",
    "                rules = association_rules(frequent_itemsets,\n",
    "                                          metric=\"confidence\",\n",
    "                                          min_threshold=min_confidence)\n",
    "            else:  # Older versions\n",
    "                # Count number of transactions\n",
    "                num_transactions = len(df_encoded)\n",
    "\n",
    "                rules = association_rules(frequent_itemsets,\n",
    "                                          metric=\"confidence\",\n",
    "                                          min_threshold=min_confidence,\n",
    "                                          num_itemsets=num_transactions)\n",
    "\n",
    "            if len(rules) > 0:\n",
    "                rules = rules.sort_values(['confidence', 'lift'], ascending=[False, False])\n",
    "                return frequent_itemsets, rules\n",
    "            else:\n",
    "                print(\"No rules found. Try lowering the confidence threshold.\")\n",
    "                return frequent_itemsets, None\n",
    "\n",
    "        except TypeError:  # Fallback method if version detection fails\n",
    "            num_transactions = len(df_encoded)\n",
    "            rules = association_rules(frequent_itemsets,\n",
    "                                      metric=\"confidence\",\n",
    "                                      min_threshold=min_confidence,\n",
    "                                      num_itemsets=num_transactions)\n",
    "\n",
    "            if len(rules) > 0:\n",
    "                rules = rules.sort_values(['confidence', 'lift'], ascending=[False, False])\n",
    "            return frequent_itemsets, rules\n",
    "\n",
    "    except Exception as e:\n",
    "        print(f\"Error generating rules: {str(e)}\")\n",
    "        return None, None\n",
    "\n",
    "# Example usage with very low thresholds to ensure we find patterns\n",
    "try:\n",
    "    print(\"Generating rules...\")\n",
    "    print(f\"Using mlxtend version: {mlxtend.__version__}\")\n",
    "\n",
    "    # First try with very low thresholds\n",
    "    frequent_itemsets, rules = generate_rules(\n",
    "        df_encoded,\n",
    "        min_support=0.01,  # Very low support threshold\n",
    "        min_confidence=0.1  # Very low confidence threshold\n",
    "    )\n",
    "\n",
    "    if frequent_itemsets is not None:\n",
    "        print(\"\\nFrequent Itemsets Found:\", len(frequent_itemsets))\n",
    "        print(frequent_itemsets.head())\n",
    "\n",
    "        if rules is not None:\n",
    "            print(\"\\nRules Found:\", len(rules))\n",
    "            print(\"\\nTop 5 rules by confidence:\")\n",
    "            print(rules.head())\n",
    "\n",
    "            # Print statistics\n",
    "            print(\"\\nRule Statistics:\")\n",
    "            print(f\"Number of rules: {len(rules)}\")\n",
    "            print(f\"Average confidence: {rules['confidence'].mean():.3f}\")\n",
    "            print(f\"Average lift: {rules['lift'].mean():.3f}\")\n",
    "        else:\n",
    "            print(\"\\nNo rules generated with current thresholds.\")\n",
    "\n",
    "        # If no rules were found, try with even lower thresholds\n",
    "        if rules is None or len(rules) == 0:\n",
    "            print(\"\\nTrying with extremely low thresholds...\")\n",
    "            frequent_itemsets, rules = generate_rules(\n",
    "                df_encoded,\n",
    "                min_support=0.001,  # Extremely low support threshold\n",
    "                min_confidence=0.05  # Extremely low confidence threshold\n",
    "            )\n",
    "\n",
    "            if rules is not None and len(rules) > 0:\n",
    "                print(\"\\nRules found with lower thresholds:\")\n",
    "                print(rules.head())\n",
    "    else:\n",
    "        print(\"No frequent itemsets found. Please check your encoded data.\")\n",
    "        print(\"\\nSample of encoded data:\")\n",
    "        print(df_encoded.head())\n",
    "        print(\"\\nShape of encoded data:\", df_encoded.shape)\n",
    "\n",
    "except Exception as e:\n",
    "    print(f\"Error in main execution: {str(e)}\")"
   ],
   "id": "c6a5ad0837c58f8d",
   "outputs": [
    {
     "name": "stdout",
     "output_type": "stream",
     "text": [
      "Generating rules...\n",
      "Using mlxtend version: 0.23.2\n",
      "\n",
      "Frequent Itemsets Found: 31\n",
      "   support   itemsets  length\n",
      "0      0.8    (angry)       1\n",
      "1      1.0     (calm)       1\n",
      "2      0.8   (joyful)       1\n",
      "3      0.8  (neutral)       1\n",
      "4      0.8      (sad)       1\n",
      "\n",
      "Rules Found: 180\n",
      "\n",
      "Top 5 rules by confidence:\n",
      "      antecedents  consequents  antecedent support  consequent support  \\\n",
      "6         (angry)        (sad)                 0.8                 0.8   \n",
      "7           (sad)      (angry)                 0.8                 0.8   \n",
      "32  (angry, calm)        (sad)                 0.8                 0.8   \n",
      "34    (sad, calm)      (angry)                 0.8                 0.8   \n",
      "35        (angry)  (sad, calm)                 0.8                 0.8   \n",
      "\n",
      "    support  confidence  lift  representativity  leverage  conviction  \\\n",
      "6       0.8         1.0  1.25               1.0      0.16         inf   \n",
      "7       0.8         1.0  1.25               1.0      0.16         inf   \n",
      "32      0.8         1.0  1.25               1.0      0.16         inf   \n",
      "34      0.8         1.0  1.25               1.0      0.16         inf   \n",
      "35      0.8         1.0  1.25               1.0      0.16         inf   \n",
      "\n",
      "    zhangs_metric  jaccard  certainty  kulczynski  \n",
      "6             1.0      1.0        1.0         1.0  \n",
      "7             1.0      1.0        1.0         1.0  \n",
      "32            1.0      1.0        1.0         1.0  \n",
      "34            1.0      1.0        1.0         1.0  \n",
      "35            1.0      1.0        1.0         1.0  \n",
      "\n",
      "Rule Statistics:\n",
      "Number of rules: 180\n",
      "Average confidence: 0.730\n",
      "Average lift: 1.001\n"
     ]
    }
   ],
   "execution_count": 90
  },
  {
   "metadata": {},
   "cell_type": "markdown",
   "source": "### Visualize Results",
   "id": "66bf71c4bba5abfc"
  },
  {
   "metadata": {
    "ExecuteTime": {
     "end_time": "2024-11-15T02:25:17.071939Z",
     "start_time": "2024-11-15T02:25:16.111076Z"
    }
   },
   "cell_type": "code",
   "source": [
    "import matplotlib.pyplot as plt\n",
    "\n",
    "plt.scatter(rules['support'], rules['confidence'], alpha=0.6, c=rules['lift'], cmap='viridis')\n",
    "plt.colorbar(label='Lift')\n",
    "plt.xlabel('Support')\n",
    "plt.ylabel('Confidence')\n",
    "plt.title('Support vs Confidence')\n",
    "plt.show()\n"
   ],
   "id": "626c55a60c7d3db9",
   "outputs": [
    {
     "data": {
      "text/plain": [
       "<Figure size 640x480 with 2 Axes>"
      ],
      "image/png": "[encoded data removed]"
     },
     "metadata": {},
     "output_type": "display_data"
    }
   ],
   "execution_count": 91
  },
  {
   "metadata": {},
   "cell_type": "markdown",
   "source": "### Create the Recommendation System",
   "id": "e7012a5d438d59f"
  },
  {
   "metadata": {
    "ExecuteTime": {
     "end_time": "2024-11-15T02:26:47.844927Z",
     "start_time": "2024-11-15T02:26:47.804341Z"
    }
   },
   "cell_type": "code",
   "source": [
    "import pandas as pd\n",
    "\n",
    "def recommend_emotions(user_emotions, rules, top_n=5):\n",
    "    \"\"\"\n",
    "    Recommend emotions based on user input and association rules.\n",
    "\n",
    "    Parameters:\n",
    "    -----------\n",
    "    user_emotions : list\n",
    "        List of emotions the user is experiencing.\n",
    "    rules : pd.DataFrame\n",
    "        The association rules DataFrame generated in Step 3.\n",
    "    top_n : int\n",
    "        Number of top recommendations to return.\n",
    "\n",
    "    Returns:\n",
    "    --------\n",
    "    pd.DataFrame\n",
    "        Top N recommended emotions with confidence and lift.\n",
    "    \"\"\"\n",
    "    # Convert user emotions to frozenset for comparison with antecedents\n",
    "    user_emotions_set = frozenset(user_emotions)\n",
    "\n",
    "    # Filter rules where the antecedents match the user's emotions\n",
    "    applicable_rules = rules[rules['antecedents'].apply(lambda x: user_emotions_set.issubset(x))]\n",
    "\n",
    "    if applicable_rules.empty:\n",
    "        print(\"No recommendations could be generated with the given emotions.\")\n",
    "        return None\n",
    "\n",
    "    # Sort by confidence and lift\n",
    "    recommendations = applicable_rules[['consequents', 'confidence', 'lift']].sort_values(\n",
    "        by=['confidence', 'lift'], ascending=[False, False]\n",
    "    )\n",
    "\n",
    "    # Return the top N recommendations\n",
    "    return recommendations.head(top_n)\n",
    "\n",
    "\n",
    "# Example Usage\n",
    "if __name__ == \"__main__\":\n",
    "    # Example user emotions\n",
    "    user_emotions = ['angry', 'calm']\n",
    "\n",
    "    # Use the rules DataFrame generated in Step 3\n",
    "    # Ensure the 'antecedents' and 'consequents' columns are frozensets\n",
    "    rules['antecedents'] = rules['antecedents'].apply(frozenset)\n",
    "    rules['consequents'] = rules['consequents'].apply(frozenset)\n",
    "\n",
    "    # Get recommendations\n",
    "    recommendations = recommend_emotions(user_emotions, rules, top_n=5)\n",
    "\n",
    "    if recommendations is not None:\n",
    "        print(\"Top Recommendations:\")\n",
    "        print(recommendations)\n"
   ],
   "id": "f554651ac0efe5f8",
   "outputs": [
    {
     "name": "stdout",
     "output_type": "stream",
     "text": [
      "Top Recommendations:\n",
      "       consequents  confidence  lift\n",
      "32           (sad)        1.00  1.25\n",
      "97           (sad)        1.00  1.25\n",
      "108          (sad)        1.00  1.25\n",
      "154          (sad)        1.00  1.25\n",
      "101  (sad, joyful)        0.75  1.25\n"
     ]
    }
   ],
   "execution_count": 92
  },
  {
   "metadata": {},
   "cell_type": "markdown",
   "source": "### Validate the Recommendation System",
   "id": "11f1ac3751fcfeab"
  },
  {
   "metadata": {
    "ExecuteTime": {
     "end_time": "2024-11-15T02:30:45.052709Z",
     "start_time": "2024-11-15T02:30:45.021743Z"
    }
   },
   "cell_type": "code",
   "source": [
    "from sklearn.metrics import precision_score, recall_score, f1_score\n",
    "\n",
    "def validate_recommendation_system(user_emotion_data, recommendations, music_df):\n",
    "    \"\"\"\n",
    "    Validate the recommendation system using precision, recall, and F1 score.\n",
    "\n",
    "    Parameters:\n",
    "    -----------\n",
    "    user_emotion_data : dict\n",
    "        A dictionary where keys are user IDs and values are lists of actual emotions.\n",
    "    recommendations : pd.DataFrame\n",
    "        The recommendations generated by the recommendation system.\n",
    "    music_df : pd.DataFrame\n",
    "        Original dataset with song emotions.\n",
    "\n",
    "    Returns:\n",
    "    --------\n",
    "    dict\n",
    "        A dictionary containing precision, recall, F1 score, and coverage.\n",
    "    \"\"\"\n",
    "    all_actual = []\n",
    "    all_predicted = []\n",
    "\n",
    "    for user_id, actual_emotions in user_emotion_data.items():\n",
    "        # Get recommendations for the user (handle cases where no recommendations exist)\n",
    "        user_recommendations = recommendations.loc[user_id]['recommended_emotions'] if user_id in recommendations.index else []\n",
    "\n",
    "        # Append actual emotions\n",
    "        all_actual.extend(actual_emotions)\n",
    "\n",
    "        # Append predictions for existing emotions\n",
    "        all_predicted.extend(user_recommendations)\n",
    "\n",
    "    # Ensure consistent lengths by adding default predictions (or filtering)\n",
    "    if len(all_actual) != len(all_predicted):\n",
    "        min_length = min(len(all_actual), len(all_predicted))\n",
    "        all_actual = all_actual[:min_length]\n",
    "        all_predicted = all_predicted[:min_length]\n",
    "\n",
    "    # Calculate precision, recall, and F1 score\n",
    "    precision = precision_score(all_actual, all_predicted, average='weighted', zero_division=1)\n",
    "    recall = recall_score(all_actual, all_predicted, average='weighted', zero_division=1)\n",
    "    f1 = f1_score(all_actual, all_predicted, average='weighted', zero_division=1)\n",
    "\n",
    "    # Calculate coverage\n",
    "    total_possible_emotions = len(df['emotion'].unique())\n",
    "    covered_emotions = len(set(all_predicted))\n",
    "    coverage = covered_emotions / total_possible_emotions\n",
    "\n",
    "    return {\n",
    "        \"precision\": precision,\n",
    "        \"recall\": recall,\n",
    "        \"f1_score\": f1,\n",
    "        \"coverage\": coverage\n",
    "    }\n",
    "\n",
    "\n",
    "# Example Usage\n",
    "if __name__ == \"__main__\":\n",
    "    # Simulated user emotion data (actual emotions per user)\n",
    "    user_emotion_data = {\n",
    "        1: ['neutral', 'sad'],\n",
    "        2: ['calm', 'joyful'],\n",
    "        3: ['angry', 'sad']\n",
    "    }\n",
    "\n",
    "    # Simulated recommendations for each user\n",
    "    recommendations = pd.DataFrame({\n",
    "        'user_id': [1, 2, 3],\n",
    "        'recommended_emotions': [['neutral', 'calm'], ['joyful', 'sad'], ['angry', 'neutral']]\n",
    "    }).set_index('user_id')\n",
    "\n",
    "    # Validate the recommendation system\n",
    "    results = validate_recommendation_system(user_emotion_data, recommendations, music_df)\n",
    "\n",
    "    print(\"Validation Results:\")\n",
    "    print(results)\n"
   ],
   "id": "da229fab7c62f24e",
   "outputs": [
    {
     "name": "stdout",
     "output_type": "stream",
     "text": [
      "Validation Results:\n",
      "{'precision': 0.25, 'recall': 0.3333333333333333, 'f1_score': 0.27777777777777773, 'coverage': 1.0}\n"
     ]
    }
   ],
   "execution_count": 96
  }
 ],
 "metadata": {
  "kernelspec": {
   "display_name": "Python 3",
   "language": "python",
   "name": "python3"
  },
  "language_info": {
   "codemirror_mode": {
    "name": "ipython",
    "version": 2
   },
   "file_extension": ".py",
   "mimetype": "text/x-python",
   "name": "python",
   "nbconvert_exporter": "python",
   "pygments_lexer": "ipython2",
   "version": "2.7.6"
  }
 },
 "nbformat": 4,
 "nbformat_minor": 5
}
